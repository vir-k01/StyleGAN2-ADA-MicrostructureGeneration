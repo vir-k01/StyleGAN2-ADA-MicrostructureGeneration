{
  "nbformat": 4,
  "nbformat_minor": 0,
  "metadata": {
    "colab": {
      "name": "GAN_ROM_latent.ipynb",
      "provenance": [],
      "collapsed_sections": [
        "AnBUBSJtTEXj",
        "ADz_d_1Cgp0M",
        "AjZMJh76W83Q",
        "M-FBOE7Xa6kg",
        "_6Q8DeCsNbmz",
        "_HR4dK-9NF_6",
        "S0KHRH8J6eJ_",
        "Sa-XOJcSCYC2",
        "elIY-akHVH9x",
        "1Oyop-qWVbaZ"
      ]
    },
    "kernelspec": {
      "name": "python3",
      "display_name": "Python 3"
    },
    "language_info": {
      "name": "python"
    }
  },
  "cells": [
    {
      "cell_type": "markdown",
      "source": [
        "Code accompanying the manuscript: \"Quantification of similarity and physical awareness of microstructures generated via Generative Models\" by Sanket Thakre, Vir Karan, Anand Krishna Kanjarla.\n",
        "\n",
        "The following code evaluates the ROM predictions (physical awareness of GAN microstructures) and latent space studies"
      ],
      "metadata": {
        "id": "U6iZsRwqE2XX"
      }
    },
    {
      "cell_type": "markdown",
      "metadata": {
        "id": "QKHzyBlKfaGQ"
      },
      "source": [
        "## Imports"
      ]
    },
    {
      "cell_type": "code",
      "metadata": {
        "id": "j4UhXfcYJq52"
      },
      "source": [
        "import os\n",
        "import numpy as np\n",
        "import pandas as pd\n",
        "from mpl_toolkits.mplot3d import Axes3D  # noqa: F401 unused import\n",
        "import matplotlib.pyplot as plt\n",
        "from sklearn.linear_model import LinearRegression\n",
        "from sklearn.decomposition import PCA\n",
        "from sklearn.metrics import mean_squared_error\n",
        "from sklearn.metrics import r2_score\n",
        "from statistics import variance \n",
        "from matplotlib.ticker import FuncFormatter, MaxNLocator\n",
        "from google.colab import files\n",
        "from sklearn.metrics import r2_score\n",
        "import matplotlib.font_manager"
      ],
      "execution_count": null,
      "outputs": []
    },
    {
      "cell_type": "markdown",
      "metadata": {
        "id": "lfLiT8NsdfOs"
      },
      "source": [
        "Import auto-correlations data "
      ]
    },
    {
      "cell_type": "code",
      "metadata": {
        "id": "QRseQ563dKFy"
      },
      "source": [
        "from google.colab import drive\n",
        "drive.mount('/content/gdrive')"
      ],
      "execution_count": null,
      "outputs": []
    },
    {
      "cell_type": "code",
      "metadata": {
        "id": "CAEEr2b9eYOF"
      },
      "source": [
        "%%time\n",
        "# Import the MATLAB generated correlations data file (256 x 256 RVE)\n",
        "corr_final = pd.read_csv('/content/gdrive/My Drive/Work from home/Vir files/Damage prediction/corr_DP.csv', header = None)\n",
        "a = corr_final.values"
      ],
      "execution_count": null,
      "outputs": []
    },
    {
      "cell_type": "markdown",
      "metadata": {
        "id": "ADz_d_1Cgp0M"
      },
      "source": [
        "## Dimensionality reduction"
      ]
    },
    {
      "cell_type": "markdown",
      "metadata": {
        "id": "eFvooMHDhwyj"
      },
      "source": [
        "We will use PCA for reducing dimensionality of the data and for generating ROM"
      ]
    },
    {
      "cell_type": "code",
      "metadata": {
        "id": "UqHwljfZVgnU"
      },
      "source": [
        "ID = 3\n",
        "pca = PCA(n_components = ID).fit(anew)\n",
        "anew_pca = pca.transform(anew)\n",
        "\n",
        "var = np.cumsum(pca.explained_variance_ratio_)"
      ],
      "execution_count": null,
      "outputs": []
    },
    {
      "cell_type": "code",
      "metadata": {
        "id": "0DDnAOlLWH0X"
      },
      "source": [
        "# For value in range +1 to the no of components \n",
        "fig = plt.figure(figsize=plt.figaspect(1)*1.5)\n",
        "plt.plot(range(1,ID+1),var,'-o',label='Explained variance ratio')\n",
        "\n",
        "plt.title('Scree plot for PCA', fontsize = 18)\n",
        "plt.ylabel('Explained variance ratio',  fontsize = 16)\n",
        "plt.xlabel('Components',  fontsize = 16)\n",
        "plt.axhline(y = 0.95, color='k', linestyle='--', label = '95% Explained Variance')\n",
        "plt.axhline(y = 0.90, color='r', linestyle='--', label = '90% Explained Variance')\n",
        "plt.legend(loc='lower right', fontsize = 11)\n",
        "plt.tick_params(axis='both', labelsize=14)\n",
        "plt.ylim(0.5,1)\n",
        "plt.grid(True)\n",
        "plt.show()\n",
        "\n",
        "print('With the ',ID,' components, we can retain',sum(pca.explained_variance_ratio_)*100,'percent data')"
      ],
      "execution_count": null,
      "outputs": []
    },
    {
      "cell_type": "code",
      "metadata": {
        "id": "XkivzGgwW174"
      },
      "source": [
        "all_stack_pca = anew_pca\n",
        "hfont = {'fontname':'Sans'}\n",
        "fig = plt.figure(figsize=plt.figaspect(1)*2)\n",
        "plt.axis(aspect='equal')\n",
        "ax = plt.axes(projection='3d')\n",
        "zdata = all_stack_pca[0:50,2]\n",
        "xdata = all_stack_pca[0:50,0]\n",
        "ydata = all_stack_pca[0:50,1]\n",
        "ax.scatter3D(xdata, ydata, zdata, c='red', s=80, marker='o', label='Class 1');\n",
        "zdata = all_stack_pca[50:100,2]\n",
        "xdata = all_stack_pca[50:100,0]\n",
        "ydata = all_stack_pca[50:100,1]\n",
        "ax.scatter3D(xdata, ydata, zdata, c='blue', s=80,marker='o',label='Class 2');\n",
        "zdata = all_stack_pca[100:150,2]\n",
        "xdata = all_stack_pca[100:150,0]\n",
        "ydata = all_stack_pca[100:150,1]\n",
        "ax.scatter3D(xdata, ydata, zdata, c='green', s=80, marker='o',label='Class 3');\n",
        "zdata = all_stack_pca[150:200,2]\n",
        "xdata = all_stack_pca[150:200,0]\n",
        "ydata = all_stack_pca[150:200,1]\n",
        "ax.scatter3D(xdata, ydata, zdata, c='yellow', s=80, marker='o',label='Class 4');\n",
        "zdata = all_stack_pca[200:250,2]\n",
        "xdata = all_stack_pca[200:250,0]\n",
        "ydata = all_stack_pca[200:250,1]\n",
        "ax.scatter3D(xdata, ydata, zdata, c='black', s=80, marker='o',label='Class 5');\n",
        "zdata = all_stack_pca[250:300,2]\n",
        "xdata = all_stack_pca[250:300,0]\n",
        "ydata = all_stack_pca[250:300,1]\n",
        "ax.scatter3D(xdata, ydata, zdata, c='orange', s=80, marker='o',label='Class 6');\n",
        "plt.legend(fontsize = 11)\n",
        "\n",
        "ax.tick_params(axis='both', labelsize=14)\n",
        "ax.set_xlabel('PC1', fontname='Helvetica', fontsize = 18)\n",
        "ax.set_ylabel('PC2', fontsize = 18)\n",
        "ax.set_zlabel('PC3', fontsize = 18)\n",
        "plt.title('3D PC representation ', fontname=\"Brush Script MT\", fontsize = 18, )\n",
        "plt.show()"
      ],
      "execution_count": null,
      "outputs": []
    },
    {
      "cell_type": "markdown",
      "metadata": {
        "id": "AjZMJh76W83Q"
      },
      "source": [
        " ## Input data preparation"
      ]
    },
    {
      "cell_type": "markdown",
      "metadata": {
        "id": "s1XaUsuJXFbv"
      },
      "source": [
        "Input data (900 x 4): First three columns will be three times 300 x 3 PC components and 4th column will be work hardening coeffcients"
      ]
    },
    {
      "cell_type": "code",
      "metadata": {
        "id": "q1kXPNGmXCtg"
      },
      "source": [
        "h1 = np.reshape(0.24 * np.ones(300),[300,1])\n",
        "h2 = np.reshape(0.34 * np.ones(300),[300,1])\n",
        "h3 = np.reshape(0.44 * np.ones(300),[300,1])\n",
        "pc1 = np.hstack([anew_pca,h1])\n",
        "pc2 = np.hstack([anew_pca,h2])\n",
        "pc3 = np.hstack([anew_pca,h3])\n",
        "\n",
        "inp_data = np.vstack([pc1,pc2,pc3])"
      ],
      "execution_count": null,
      "outputs": []
    },
    {
      "cell_type": "code",
      "metadata": {
        "id": "gAoXRqQ_ZSrI"
      },
      "source": [
        "inp_data.shape"
      ],
      "execution_count": null,
      "outputs": []
    },
    {
      "cell_type": "markdown",
      "metadata": {
        "id": "M-FBOE7Xa6kg"
      },
      "source": [
        "## ROM Generation import"
      ]
    },
    {
      "cell_type": "code",
      "metadata": {
        "id": "RC64gxFpa8oV"
      },
      "source": [
        "from sklearn.ensemble import RandomForestRegressor\n",
        "from sklearn.linear_model import LinearRegression\n",
        "from sklearn.model_selection import train_test_split\n",
        "from sklearn.metrics import mean_squared_error as mse\n",
        "from sklearn.metrics import mean_absolute_error as mae\n",
        "from sklearn.metrics import mean_absolute_percentage_error as mpe\n",
        "from sklearn.metrics import r2_score as r2"
      ],
      "execution_count": null,
      "outputs": []
    },
    {
      "cell_type": "code",
      "metadata": {
        "id": "_-O1QoIKcrnY"
      },
      "source": [
        "%%time\n",
        "# Import the damage initiation stress data for all 900 RVEs (900 x 1)\n",
        "dam_1 = pd.read_csv('/content/gdrive/My Drive/Work from home/Vir files/Damage prediction/Damage_0.24.csv', header = None)\n",
        "dam_2 = pd.read_csv('/content/gdrive/My Drive/Work from home/Vir files/Damage prediction/Damage_0.34.csv', header = None)\n",
        "dam_3 = pd.read_csv('/content/gdrive/My Drive/Work from home/Vir files/Damage prediction/Damage_0.44.csv', header = None)\n",
        "y1 = dam_1.values\n",
        "y2 = dam_2.values\n",
        "y3 = dam_3.values"
      ],
      "execution_count": null,
      "outputs": []
    },
    {
      "cell_type": "code",
      "metadata": {
        "id": "eSymWtQglt4t"
      },
      "source": [
        "y = np.vstack([y1,y2,y3])\n",
        "y.shape"
      ],
      "execution_count": null,
      "outputs": []
    },
    {
      "cell_type": "markdown",
      "source": [
        "# Random forest model"
      ],
      "metadata": {
        "id": "qNgIyy-lb8Td"
      }
    },
    {
      "cell_type": "code",
      "source": [
        "from sklearn import ensemble\n",
        "from sklearn.model_selection import cross_val_score\n",
        "from sklearn.model_selection import cross_val_predict\n",
        "from sklearn.model_selection import GridSearchCV\n",
        "from sklearn.model_selection import RandomizedSearchCV"
      ],
      "metadata": {
        "id": "2TUsRWRspLSw"
      },
      "execution_count": null,
      "outputs": []
    },
    {
      "cell_type": "code",
      "source": [
        "# To check which microstructure in taken in random split\n",
        "h1 = np.reshape(1 * np.ones(50),[50,1])\n",
        "h2 = np.reshape(2 * np.ones(50),[50,1])\n",
        "h3 = np.reshape(3 * np.ones(50),[50,1])\n",
        "h4 = np.reshape(4 * np.ones(50),[50,1])\n",
        "h5 = np.reshape(5 * np.ones(50),[50,1])\n",
        "h6 = np.reshape(6 * np.ones(50),[50,1])\n",
        "cls = np.vstack([h1,h2,h3,h4,h5,h6])\n",
        "index = np.vstack([cls,cls,cls])\n",
        "inp_data1 = np.hstack([index,inp_data])"
      ],
      "metadata": {
        "id": "0OkdcXenznR2"
      },
      "execution_count": null,
      "outputs": []
    },
    {
      "cell_type": "code",
      "source": [
        "# Data split  \n",
        "x_train, x_test, y_train, y_test = train_test_split(inp_data1,y,test_size=0.2,random_state=1)\n",
        "class_train = x_train[:,1:5]; class_test = x_test[:,1:5];  out_train= y_train; out_test = y_test; "
      ],
      "metadata": {
        "id": "NIt7hu-grk4v"
      },
      "execution_count": null,
      "outputs": []
    },
    {
      "cell_type": "code",
      "metadata": {
        "id": "2eQnDt_eo3OB"
      },
      "source": [
        "# Model fitting\n",
        "dt=ensemble.RandomForestRegressor(n_estimators=20,max_depth=7,random_state=1)\n",
        "dt.fit(class_train,out_train)\n",
        "dt.score(class_test,out_test)"
      ],
      "execution_count": null,
      "outputs": []
    },
    {
      "cell_type": "code",
      "source": [
        "dt.score(class_train,out_train)"
      ],
      "metadata": {
        "colab": {
          "base_uri": "https://localhost:8080/"
        },
        "id": "APwz_0Fj_gXz",
        "outputId": "894a2d5e-df0d-4ec5-b4c7-24a81753a68f"
      },
      "execution_count": null,
      "outputs": [
        {
          "output_type": "execute_result",
          "data": {
            "text/plain": [
              "0.9851901677190446"
            ]
          },
          "metadata": {},
          "execution_count": 15
        }
      ]
    },
    {
      "cell_type": "code",
      "source": [
        "# Cross validation\n",
        "predicted = cross_val_predict(ensemble.RandomForestRegressor(n_estimators=20,max_depth=7,random_state=1), class_train,out_train, cv=10)"
      ],
      "metadata": {
        "id": "UIOY9COzREFF"
      },
      "execution_count": null,
      "outputs": []
    },
    {
      "cell_type": "code",
      "source": [
        "# Model testing on metrics\n",
        "pred_class_test = dt.predict(class_test)\n",
        "r2(out_test,pred_class_test)"
      ],
      "metadata": {
        "colab": {
          "base_uri": "https://localhost:8080/"
        },
        "id": "nT00IRTNnT49",
        "outputId": "a94a051a-c49d-47bb-fc16-fafae9e334f2"
      },
      "execution_count": null,
      "outputs": [
        {
          "output_type": "execute_result",
          "data": {
            "text/plain": [
              "0.9704940282888259"
            ]
          },
          "metadata": {},
          "execution_count": 20
        }
      ]
    },
    {
      "cell_type": "code",
      "source": [
        "mse(out_test,pred_class_test)"
      ],
      "metadata": {
        "colab": {
          "base_uri": "https://localhost:8080/"
        },
        "outputId": "ddd46fe8-5205-4c68-c70c-77de18457f86",
        "id": "yIBqfoMsvS5W"
      },
      "execution_count": null,
      "outputs": [
        {
          "output_type": "execute_result",
          "data": {
            "text/plain": [
              "537.4702915701525"
            ]
          },
          "metadata": {},
          "execution_count": 21
        }
      ]
    },
    {
      "cell_type": "code",
      "source": [
        "mae(out_test,pred_class_test)"
      ],
      "metadata": {
        "colab": {
          "base_uri": "https://localhost:8080/"
        },
        "outputId": "fa49b692-1ce2-4e6d-dd86-f5b7417c7286",
        "id": "0zcX5XlxvS5W"
      },
      "execution_count": null,
      "outputs": [
        {
          "output_type": "execute_result",
          "data": {
            "text/plain": [
              "18.30262340625969"
            ]
          },
          "metadata": {},
          "execution_count": 22
        }
      ]
    },
    {
      "cell_type": "code",
      "source": [
        "mpe(out_test,pred_class_test)"
      ],
      "metadata": {
        "colab": {
          "base_uri": "https://localhost:8080/"
        },
        "outputId": "74ff7994-b83c-4e90-fd04-fa0f593eae73",
        "id": "87_UL_msvS5W"
      },
      "execution_count": null,
      "outputs": [
        {
          "output_type": "execute_result",
          "data": {
            "text/plain": [
              "0.018827821099555116"
            ]
          },
          "metadata": {},
          "execution_count": 23
        }
      ]
    },
    {
      "cell_type": "code",
      "source": [
        "importances = dt.feature_importances_\n",
        "\n",
        "forest_importances = pd.Series(importances, index=['PC1', 'PC2', 'PC3', 'WH'])\n",
        "std = np.std([tree.feature_importances_ for tree in dt.estimators_], axis=0)\n",
        "\n",
        "fig, ax = plt.subplots()\n",
        "forest_importances.plot.bar(yerr=std, ax=ax)\n",
        "ax.set_title(\"Feature importances using MDI\")\n",
        "ax.set_ylabel(\"Mean decrease in impurity\")\n",
        "fig.tight_layout()"
      ],
      "metadata": {
        "id": "Lt06OUPvQDAq"
      },
      "execution_count": null,
      "outputs": []
    },
    {
      "cell_type": "code",
      "source": [
        "forest_importances"
      ],
      "metadata": {
        "id": "oqgc11h-QDAq"
      },
      "execution_count": null,
      "outputs": []
    },
    {
      "cell_type": "code",
      "source": [
        "from sklearn.tree import plot_tree\n",
        "\n",
        "fig = plt.figure(figsize=(50, 50))\n",
        "#fig = plt.figure\n",
        "plot_tree(dt.estimators_[4], feature_names= ['PC1', 'PC2', 'PC3', 'WH'])\n"
      ],
      "metadata": {
        "id": "5b1FXVruQDAq"
      },
      "execution_count": null,
      "outputs": []
    },
    {
      "cell_type": "markdown",
      "metadata": {
        "id": "Sa-XOJcSCYC2"
      },
      "source": [
        "# Actual & GAN microstructure comparison\n"
      ]
    },
    {
      "cell_type": "code",
      "metadata": {
        "id": "HaWAhwcIwPyI"
      },
      "source": [
        "%%time\n",
        "# Import the damage initiation stress data for all 900 RVEs (900 x 1)\n",
        "dam_m = pd.read_csv('/content/gdrive/My Drive/Work from home/Vir files/Damage prediction/corr_m.csv', header = None)\n",
        "dam_g = pd.read_csv('/content/gdrive/My Drive/Work from home/Vir files/Damage prediction/corr_g.csv', header = None)\n",
        "ind_1 = pd.read_csv('/content/gdrive/My Drive/Work from home/Vir files/Damage prediction/Index_max_0.24.csv', header = None)\n",
        "ind_2 = pd.read_csv('/content/gdrive/My Drive/Work from home/Vir files/Damage prediction/Index_max_0.34.csv', header = None)\n",
        "ind_3 = pd.read_csv('/content/gdrive/My Drive/Work from home/Vir files/Damage prediction/Index_max_0.44.csv', header = None)\n",
        "\n",
        "dam_g_lat = pd.read_csv('/content/gdrive/My Drive/Work from home/Vir files/Damage prediction/corr_g_lat.csv', header = None)\n",
        "\n",
        "x1 = dam_m.values\n",
        "x2 = dam_g.values\n",
        "x3 = dam_g_lat.values\n",
        "y_all = np.vstack([ind_1.values,ind_2.values,ind_3.values])\n"
      ],
      "execution_count": null,
      "outputs": []
    },
    {
      "cell_type": "code",
      "metadata": {
        "id": "oKo1W-uzCleH"
      },
      "source": [
        "# Performing PCA on all at once\n",
        "ID = 3\n",
        "pca_m = PCA(n_components = ID).fit(x1)\n",
        "anew_pca_m = pca_m.transform(x1)\n",
        "pca_g = PCA(n_components = ID).fit(x2)\n",
        "anew_pca_g = pca_g.transform(x2)"
      ],
      "execution_count": null,
      "outputs": []
    },
    {
      "cell_type": "code",
      "source": [
        "print('With the ',ID,' components, we can retain',sum(pca_g.explained_variance_ratio_)*100,'percent data')"
      ],
      "metadata": {
        "id": "OMO8afychMoJ"
      },
      "execution_count": null,
      "outputs": []
    },
    {
      "cell_type": "code",
      "source": [
        "print('With the ',ID,' components, we can retain',sum(pca_m.explained_variance_ratio_)*100,'percent data')"
      ],
      "metadata": {
        "id": "9bxervMIhA2p"
      },
      "execution_count": null,
      "outputs": []
    },
    {
      "cell_type": "code",
      "source": [
        "term1 = np.vstack([anew_pca_m[0,:],anew_pca_m[6,:],anew_pca_m[12,:]])\n",
        "term2 = np.vstack([anew_pca_m[1,:],anew_pca_m[7,:],anew_pca_m[13,:]])\n",
        "term3 = np.vstack([anew_pca_m[2,:],anew_pca_m[8,:],anew_pca_m[14,:]])\n",
        "term4 = np.vstack([anew_pca_m[3,:],anew_pca_m[9,:],anew_pca_m[15,:]])\n",
        "term5 = np.vstack([anew_pca_m[4,:],anew_pca_m[10,:],anew_pca_m[16,:]])\n",
        "term6 = np.vstack([anew_pca_m[5,:],anew_pca_m[11,:],anew_pca_m[17,:]])\n",
        "class_wise_m = np.vstack([term1,term2,term3,term4,term5,term6,])\n",
        "class_wise_m"
      ],
      "metadata": {
        "id": "B8TvKBLW5YLK"
      },
      "execution_count": null,
      "outputs": []
    },
    {
      "cell_type": "code",
      "source": [
        "term1 = np.vstack([anew_pca_g[0,:],anew_pca_g[6,:],anew_pca_g[12,:]])\n",
        "term2 = np.vstack([anew_pca_g[1,:],anew_pca_g[7,:],anew_pca_g[13,:]])\n",
        "term3 = np.vstack([anew_pca_g[2,:],anew_pca_g[8,:],anew_pca_g[14,:]])\n",
        "term4 = np.vstack([anew_pca_g[3,:],anew_pca_g[9,:],anew_pca_g[15,:]])\n",
        "term5 = np.vstack([anew_pca_g[4,:],anew_pca_g[10,:],anew_pca_g[16,:]])\n",
        "term6 = np.vstack([anew_pca_g[5,:],anew_pca_g[11,:],anew_pca_g[17,:]])\n",
        "class_wise_g = np.vstack([term1,term2,term3,term4,term5,term6,])\n",
        "class_wise_g"
      ],
      "metadata": {
        "id": "PPCugpwN50Qh"
      },
      "execution_count": null,
      "outputs": []
    },
    {
      "cell_type": "markdown",
      "source": [
        "# GAN microstructure prediction using ROM"
      ],
      "metadata": {
        "id": "elIY-akHVH9x"
      }
    },
    {
      "cell_type": "code",
      "metadata": {
        "id": "9Bx4ooBPEmo7"
      },
      "source": [
        "# Input data generation\n",
        "h_1 = np.reshape(0.24 * np.ones(6),[6,1])\n",
        "h_2 = np.reshape(0.34 * np.ones(6),[6,1])\n",
        "h_3 = np.reshape(0.44 * np.ones(6),[6,1])\n",
        "inp_h = np.vstack([h_1,h_2,h_3])"
      ],
      "execution_count": null,
      "outputs": []
    },
    {
      "cell_type": "code",
      "source": [
        "inp_g = np.hstack([anew_pca_g,inp_h])\n",
        "inp_m = np.hstack([anew_pca_m,inp_h])"
      ],
      "metadata": {
        "id": "TxhkjYph0jw5"
      },
      "execution_count": null,
      "outputs": []
    },
    {
      "cell_type": "code",
      "metadata": {
        "id": "gq1d2j3lFSyQ"
      },
      "source": [
        "# Predicting using random forest model\n",
        "pred_g = dt.predict(inp_g)\n",
        "print(\"Rsquare (class test): %f\" %(dt.score(inp_g, y_all[:,1])))"
      ],
      "execution_count": null,
      "outputs": []
    },
    {
      "cell_type": "code",
      "source": [
        "# Predicting using random forest model\n",
        "pred_m = dt.predict(inp_m)\n",
        "print(\"Rsquare (class test): %f\" %(dt.score(inp_m, y_all[:,1])))"
      ],
      "metadata": {
        "id": "oKQSzvRQ0s3B"
      },
      "execution_count": null,
      "outputs": []
    },
    {
      "cell_type": "code",
      "metadata": {
        "id": "U22NAsH-Fb2f"
      },
      "source": [
        "# Hardening coefficients wise plot\n",
        "fig = plt.figure(figsize=plt.figaspect(1)*1.5)\n",
        "plt.plot(y_all[0:6,1],pred_g[0:6],'o',label='Hard 0.24')\n",
        "plt.plot(y_all[6:13,1],pred_g[6:13],'o',label='Hard 0.34')\n",
        "plt.plot(y_all[13:18,1],pred_g[13:18],'o',label='Hard 0.44')\n",
        "\n",
        "#plt.title('QQ plot', fontsize = 18)\n",
        "plt.ylabel('Prediction', fontsize = 16)\n",
        "plt.xlabel('Actual', fontsize = 16)\n",
        "#plt.axhline(y = 0.95, color='k', linestyle='--', label = '95% Explained Variance')\n",
        "\n",
        "plt.plot([0,1300],[0,1300],color='k', linestyle='--',linewidth=0.5)\n",
        "plt.legend(loc='lower right', fontsize = 11)\n",
        "plt.tick_params(axis='both', labelsize=14)\n",
        "plt.ylim(650,1300)\n",
        "plt.xlim(650,1300)\n",
        "plt.grid(True)\n",
        "#ax.set_facecolor('white')\n",
        "plt.show()"
      ],
      "execution_count": null,
      "outputs": []
    },
    {
      "cell_type": "code",
      "metadata": {
        "id": "C_LinGfEGAoP"
      },
      "source": [
        "# Class wise plot\n",
        "fig = plt.figure(figsize=plt.figaspect(1)*1.5)\n",
        "plt.plot(y_all[0,1],pred_g[0],'ob',label='Class 1')\n",
        "plt.plot(y_all[6,1],pred_g[6],'ob')\n",
        "plt.plot(y_all[12,1],pred_g[12],'ob')\n",
        "plt.plot(y_all[1,1],pred_g[1],'or',label='Class 2')\n",
        "plt.plot(y_all[7,1],pred_g[7],'or')\n",
        "plt.plot(y_all[13,1],pred_g[13],'or')\n",
        "plt.plot(y_all[2,1],pred_g[2],'oy',label='Class 3')\n",
        "plt.plot(y_all[8,1],pred_g[8],'oy')\n",
        "plt.plot(y_all[14,1],pred_g[14],'oy')\n",
        "plt.plot(y_all[3,1],pred_g[3],'og',label='Class 4')\n",
        "plt.plot(y_all[9,1],pred_g[9],'og')\n",
        "plt.plot(y_all[15,1],pred_g[15],'og')\n",
        "plt.plot(y_all[4,1],pred_g[4],'ok',label='Class 5')\n",
        "plt.plot(y_all[10,1],pred_g[10],'ok')\n",
        "plt.plot(y_all[16,1],pred_g[16],'ok')\n",
        "plt.plot(y_all[5,1],pred_g[5],'oc',label='Class 6')\n",
        "plt.plot(y_all[11,1],pred_g[11],'oc')\n",
        "plt.plot(y_all[17,1],pred_g[17],'oc')\n",
        "\n",
        "plt.plot([0,1300],[0,1300],color='k', linestyle='--',linewidth=0.5)\n",
        "#plt.title('QQ plot', fontsize = 18)\n",
        "plt.ylabel('Prediction', fontsize = 16)\n",
        "plt.xlabel('Actual', fontsize = 16)\n",
        "\n",
        "\n",
        "plt.legend(loc='lower right', fontsize = 11)\n",
        "plt.tick_params(axis='both', labelsize=14)\n",
        "plt.ylim(650,1300)\n",
        "plt.xlim(650,1300)\n",
        "plt.grid(True)\n",
        "\n",
        "plt.show()"
      ],
      "execution_count": null,
      "outputs": []
    },
    {
      "cell_type": "code",
      "source": [
        "r = np.empty(6)\n",
        "for i in range (6):\n",
        "  m_pre = np.vstack([pred_m[i],pred_m[i+6],pred_m[i+12]])\n",
        "  g_pre = np.vstack([pred_g[i],pred_g[i+6],pred_g[i+12]])\n",
        "  r[i] = r2_score(m_pre, g_pre)\n",
        "r"
      ],
      "metadata": {
        "id": "uzedLGohb-YB"
      },
      "execution_count": null,
      "outputs": []
    },
    {
      "cell_type": "markdown",
      "source": [
        "# Latent space studies"
      ],
      "metadata": {
        "id": "1Oyop-qWVbaZ"
      }
    },
    {
      "cell_type": "code",
      "source": [
        "%%time\n",
        "space = np.zeros(512)\n",
        "lay = 1\n",
        "\n",
        "for i in range(600):\n",
        "  data = pd.read_csv('/content/gdrive/My Drive/Work from home/Vir files/Visualisation/sampled_latents/'+ str(i) +'.csv')\n",
        "  lat = data.values\n",
        "  dum = lat[:,lay]\n",
        "  space = np.vstack([space,dum])\n",
        "\n",
        "obs_lay = space[1:601,:]"
      ],
      "metadata": {
        "colab": {
          "base_uri": "https://localhost:8080/"
        },
        "id": "XLImh8GeXCVB",
        "outputId": "82ff9104-841d-4a17-dc32-8c454370ec44"
      },
      "execution_count": null,
      "outputs": [
        {
          "output_type": "stream",
          "name": "stdout",
          "text": [
            "CPU times: user 2.24 s, sys: 111 ms, total: 2.35 s\n",
            "Wall time: 2.95 s\n"
          ]
        }
      ]
    },
    {
      "cell_type": "code",
      "source": [
        "obs_lay.shape"
      ],
      "metadata": {
        "colab": {
          "base_uri": "https://localhost:8080/"
        },
        "id": "Re9Bq7vYdb2f",
        "outputId": "6b177f1b-84f6-4448-c779-d29b8399999f"
      },
      "execution_count": null,
      "outputs": [
        {
          "output_type": "execute_result",
          "data": {
            "text/plain": [
              "(300, 512)"
            ]
          },
          "metadata": {},
          "execution_count": 174
        }
      ]
    },
    {
      "cell_type": "code",
      "source": [
        "ID = 3\n",
        "pca = PCA(n_components = ID).fit(obs_lay)\n",
        "anew_pca = pca.transform(obs_lay)"
      ],
      "metadata": {
        "id": "PJ94YQzsf4kG"
      },
      "execution_count": null,
      "outputs": []
    },
    {
      "cell_type": "code",
      "source": [
        "pca.explained_variance_ratio_"
      ],
      "metadata": {
        "id": "tyq7SJKcgRod"
      },
      "execution_count": null,
      "outputs": []
    },
    {
      "cell_type": "code",
      "source": [
        "print('With the ',ID,' components, we can retain',sum(pca.explained_variance_ratio_)*100,'percent data')"
      ],
      "metadata": {
        "id": "A4TMhNc0gQp-"
      },
      "execution_count": null,
      "outputs": []
    },
    {
      "cell_type": "code",
      "source": [
        "all_stack_pca = anew_pca\n",
        "\n",
        "fig = plt.figure(figsize=plt.figaspect(1)*2)\n",
        "plt.axis(aspect='equal')\n",
        "ax = plt.axes(projection='3d')\n",
        "zdata = all_stack_pca[0:100,2]\n",
        "xdata = all_stack_pca[0:100,0]\n",
        "ydata = all_stack_pca[0:100,1]\n",
        "ax.scatter3D(xdata, ydata, zdata, c='red', s=80, marker='o', label='Class 1');\n",
        "zdata = all_stack_pca[100:200,2]\n",
        "xdata = all_stack_pca[100:200,0]\n",
        "ydata = all_stack_pca[100:200,1]\n",
        "ax.scatter3D(xdata, ydata, zdata, c='blue', s=80,marker='o',label='Class 2');\n",
        "zdata = all_stack_pca[200:300,2]\n",
        "xdata = all_stack_pca[200:300,0]\n",
        "ydata = all_stack_pca[200:300,1]\n",
        "ax.scatter3D(xdata, ydata, zdata, c='green', s=80, marker='o',label='Class 3');\n",
        "zdata = all_stack_pca[300:400,2]\n",
        "xdata = all_stack_pca[300:400,0]\n",
        "ydata = all_stack_pca[300:400,1]\n",
        "ax.scatter3D(xdata, ydata, zdata, c='yellow', s=80, marker='o',label='Class 4');\n",
        "zdata = all_stack_pca[400:500,2]\n",
        "xdata = all_stack_pca[400:500,0]\n",
        "ydata = all_stack_pca[400:500,1]\n",
        "ax.scatter3D(xdata, ydata, zdata, c='black', s=80, marker='o',label='Class 5');\n",
        "zdata = all_stack_pca[500:600,2]\n",
        "xdata = all_stack_pca[500:600,0]\n",
        "ydata = all_stack_pca[500:600,1]\n",
        "ax.scatter3D(xdata, ydata, zdata, c='orange', s=80, marker='o',label='Class 6');\n",
        "plt.legend(fontsize = 11)\n",
        "\n",
        "ax.tick_params(axis='both', labelsize=14)\n",
        "ax.set_xlabel('PC1', fontsize = 18)\n",
        "ax.set_ylabel('PC2', fontsize = 18)\n",
        "ax.set_zlabel('PC3', fontsize = 18)\n",
        "plt.title('3D PC representation ', fontsize = 18, )\n",
        "plt.show()"
      ],
      "metadata": {
        "id": "O39jEgTYgV4X"
      },
      "execution_count": null,
      "outputs": []
    },
    {
      "cell_type": "code",
      "source": [
        ""
      ],
      "metadata": {
        "id": "oKZA_rMTzQsq"
      },
      "execution_count": null,
      "outputs": []
    }
  ]
}