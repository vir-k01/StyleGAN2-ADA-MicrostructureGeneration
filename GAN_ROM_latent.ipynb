{
  "nbformat": 4,
  "nbformat_minor": 0,
  "metadata": {
    "colab": {
      "name": "GAN_ROM_latent.ipynb",
      "provenance": [],
      "collapsed_sections": [
        "AnBUBSJtTEXj",
        "ADz_d_1Cgp0M",
        "AjZMJh76W83Q",
        "M-FBOE7Xa6kg",
        "_6Q8DeCsNbmz",
        "_HR4dK-9NF_6",
        "S0KHRH8J6eJ_",
        "Sa-XOJcSCYC2",
        "elIY-akHVH9x",
        "1Oyop-qWVbaZ"
      ]
    },
    "kernelspec": {
      "name": "python3",
      "display_name": "Python 3"
    },
    "language_info": {
      "name": "python"
    }
  },
  "cells": [
    {
      "cell_type": "markdown",
      "source": [
        "Code accompanying the manuscript: \"Quantification of similarity and physical awareness of microstructures generated via Generative Models\" by Sanket Thakre, Vir Karan, Anand Krishna Kanjarla.\n",
        "\n",
        "The following code evaluates the ROM predictions (physical awareness of GAN microstructures) and latent space studies"
      ],
      "metadata": {
        "id": "U6iZsRwqE2XX"
      }
    },
    {
      "cell_type": "markdown",
      "metadata": {
        "id": "QKHzyBlKfaGQ"
      },
      "source": [
        "## Imports"
      ]
    },
    {
      "cell_type": "code",
      "metadata": {
        "id": "j4UhXfcYJq52"
      },
      "source": [
        "import os\n",
        "import numpy as np\n",
        "import pandas as pd\n",
        "from mpl_toolkits.mplot3d import Axes3D  # noqa: F401 unused import\n",
        "import matplotlib.pyplot as plt\n",
        "from sklearn.linear_model import LinearRegression\n",
        "from sklearn.decomposition import PCA\n",
        "from sklearn.metrics import mean_squared_error\n",
        "from sklearn.metrics import r2_score\n",
        "from statistics import variance \n",
        "from matplotlib.ticker import FuncFormatter, MaxNLocator\n",
        "from google.colab import files\n",
        "from sklearn.metrics import r2_score\n",
        "import matplotlib.font_manager"
      ],
      "execution_count": null,
      "outputs": []
    },
    {
      "cell_type": "markdown",
      "metadata": {
        "id": "lfLiT8NsdfOs"
      },
      "source": [
        "Import auto-correlations data "
      ]
    },
    {
      "cell_type": "code",
      "metadata": {
        "id": "QRseQ563dKFy",
        "colab": {
          "base_uri": "https://localhost:8080/"
        },
        "outputId": "bfeb9232-0fc5-4daa-b1bc-2bf14c846896"
      },
      "source": [
        "from google.colab import drive\n",
        "drive.mount('/content/gdrive')\n"
      ],
      "execution_count": null,
      "outputs": [
        {
          "output_type": "stream",
          "name": "stdout",
          "text": [
            "Mounted at /content/gdrive\n"
          ]
        }
      ]
    },
    {
      "cell_type": "code",
      "metadata": {
        "id": "CAEEr2b9eYOF",
        "colab": {
          "base_uri": "https://localhost:8080/"
        },
        "outputId": "029e3548-fb5f-4411-d656-1d00ccb4d1d7"
      },
      "source": [
        "%%time\n",
        "# Import the MATLAB generated correlations data file (256 x 256 RVE)\n",
        "# Autocorrelations for phase-phase and phase-interface for 6 classes with 50 RVEs in each class\n",
        "corr_final = pd.read_csv('/content/gdrive/My Drive/Work from home/Vir files/Damage prediction/corr_DP.csv', header = None)\n",
        "a = corr_final.values"
      ],
      "execution_count": null,
      "outputs": [
        {
          "output_type": "stream",
          "name": "stdout",
          "text": [
            "CPU times: user 2min 32s, sys: 8.93 s, total: 2min 41s\n",
            "Wall time: 2min 41s\n"
          ]
        }
      ]
    },
    {
      "cell_type": "code",
      "metadata": {
        "colab": {
          "base_uri": "https://localhost:8080/"
        },
        "id": "ir3IYTtBJog6",
        "outputId": "3736e57d-1e06-4fbb-b00e-1e3659a75ebe"
      },
      "source": [
        "anew = a\n",
        "anew.shape"
      ],
      "execution_count": null,
      "outputs": [
        {
          "output_type": "execute_result",
          "data": {
            "text/plain": [
              "(300, 130050)"
            ]
          },
          "metadata": {},
          "execution_count": 4
        }
      ]
    },
    {
      "cell_type": "markdown",
      "metadata": {
        "id": "ADz_d_1Cgp0M"
      },
      "source": [
        "## Dimensionality reduction"
      ]
    },
    {
      "cell_type": "markdown",
      "metadata": {
        "id": "eFvooMHDhwyj"
      },
      "source": [
        "We will use PCA for reducing dimensionality of the data and for generating ROM"
      ]
    },
    {
      "cell_type": "code",
      "metadata": {
        "id": "UqHwljfZVgnU"
      },
      "source": [
        "ID = 3\n",
        "pca = PCA(n_components = ID).fit(anew)\n",
        "anew_pca = pca.transform(anew)\n",
        "\n",
        "var = np.cumsum(pca.explained_variance_ratio_)"
      ],
      "execution_count": null,
      "outputs": []
    },
    {
      "cell_type": "code",
      "metadata": {
        "colab": {
          "base_uri": "https://localhost:8080/",
          "height": 434
        },
        "id": "0DDnAOlLWH0X",
        "outputId": "5df8e241-799c-49f0-f607-80f37184e049"
      },
      "source": [
        "# For value in range +1 to the no of components \n",
        "#%matplotlib \n",
        "#hfont = {'fontname':\"Gabriola\"}\n",
        "#plt.rcParams['font.family'] = 'serif'\n",
        "#plt.rcParams['font.serif'] = ['Arial']\n",
        "fig = plt.figure(figsize=plt.figaspect(1)*1.5)\n",
        "plt.plot(range(1,ID+1),var,'-o',label='Explained variance ratio')\n",
        "\n",
        "plt.title('Scree plot for PCA', fontsize = 18)\n",
        "plt.ylabel('Explained variance ratio',  fontsize = 16)\n",
        "plt.xlabel('Components',  fontsize = 16)\n",
        "plt.axhline(y = 0.95, color='k', linestyle='--', label = '95% Explained Variance')\n",
        "plt.axhline(y = 0.90, color='r', linestyle='--', label = '90% Explained Variance')\n",
        "plt.legend(loc='lower right', fontsize = 11)\n",
        "plt.tick_params(axis='both', labelsize=14)\n",
        "plt.ylim(0.5,1)\n",
        "plt.grid(True)\n",
        "#plt.savefig('/content/gdrive/My Drive/Work from home/scree_PCA_3D.png')\n",
        "#ax.set_facecolor('white')\n",
        "plt.show()\n",
        "\n",
        "print('With the ',ID,' components, we can retain',sum(pca.explained_variance_ratio_)*100,'percent data')"
      ],
      "execution_count": null,
      "outputs": [
        {
          "output_type": "display_data",
          "data": {
            "text/plain": [
              "<Figure size 432x432 with 1 Axes>"
            ],
            "image/png": "[encoded data removed]"
          },
          "metadata": {
            "needs_background": "light"
          }
        },
        {
          "output_type": "stream",
          "name": "stdout",
          "text": [
            "With the  3  components, we can retain 94.4357502084365 percent data\n"
          ]
        }
      ]
    },
    {
      "cell_type": "code",
      "metadata": {
        "colab": {
          "base_uri": "https://localhost:8080/",
          "height": 590
        },
        "id": "XkivzGgwW174",
        "outputId": "5d163b79-d36b-405b-ce64-cfc3ac318cf6"
      },
      "source": [
        "all_stack_pca = anew_pca\n",
        "hfont = {'fontname':'Sans'}\n",
        "fig = plt.figure(figsize=plt.figaspect(1)*2)\n",
        "plt.axis(aspect='equal')\n",
        "ax = plt.axes(projection='3d')\n",
        "zdata = all_stack_pca[0:50,2]\n",
        "xdata = all_stack_pca[0:50,0]\n",
        "ydata = all_stack_pca[0:50,1]\n",
        "ax.scatter3D(xdata, ydata, zdata, c='red', s=80, marker='o', label='Class 1');\n",
        "zdata = all_stack_pca[50:100,2]\n",
        "xdata = all_stack_pca[50:100,0]\n",
        "ydata = all_stack_pca[50:100,1]\n",
        "ax.scatter3D(xdata, ydata, zdata, c='blue', s=80,marker='o',label='Class 2');\n",
        "zdata = all_stack_pca[100:150,2]\n",
        "xdata = all_stack_pca[100:150,0]\n",
        "ydata = all_stack_pca[100:150,1]\n",
        "ax.scatter3D(xdata, ydata, zdata, c='green', s=80, marker='o',label='Class 3');\n",
        "zdata = all_stack_pca[150:200,2]\n",
        "xdata = all_stack_pca[150:200,0]\n",
        "ydata = all_stack_pca[150:200,1]\n",
        "ax.scatter3D(xdata, ydata, zdata, c='yellow', s=80, marker='o',label='Class 4');\n",
        "zdata = all_stack_pca[200:250,2]\n",
        "xdata = all_stack_pca[200:250,0]\n",
        "ydata = all_stack_pca[200:250,1]\n",
        "ax.scatter3D(xdata, ydata, zdata, c='black', s=80, marker='o',label='Class 5');\n",
        "zdata = all_stack_pca[250:300,2]\n",
        "xdata = all_stack_pca[250:300,0]\n",
        "ydata = all_stack_pca[250:300,1]\n",
        "ax.scatter3D(xdata, ydata, zdata, c='orange', s=80, marker='o',label='Class 6');\n",
        "plt.legend(fontsize = 11)\n",
        "\n",
        "ax.tick_params(axis='both', labelsize=14)\n",
        "ax.set_xlabel('PC1', fontname='Helvetica', fontsize = 18)\n",
        "ax.set_ylabel('PC2', fontsize = 18)\n",
        "ax.set_zlabel('PC3', fontsize = 18)\n",
        "plt.title('3D PC representation ', fontname=\"Brush Script MT\", fontsize = 18, )\n",
        "#plt.savefig('/home/sanket/Sanket/Research/Comparison of unsupervised ML/PyPCA.png')\n",
        "plt.show()"
      ],
      "execution_count": null,
      "outputs": [
        {
          "output_type": "stream",
          "name": "stderr",
          "text": [
            "/usr/local/lib/python3.7/dist-packages/ipykernel_launcher.py:4: MatplotlibDeprecationWarning: Passing unsupported keyword arguments to axis() will raise a TypeError in 3.3.\n",
            "  after removing the cwd from sys.path.\n",
            "/usr/local/lib/python3.7/dist-packages/ipykernel_launcher.py:5: MatplotlibDeprecationWarning: Adding an axes using the same arguments as a previous axes currently reuses the earlier instance.  In a future version, a new instance will always be created and returned.  Meanwhile, this warning can be suppressed, and the future behavior ensured, by passing a unique label to each axes instance.\n",
            "  \"\"\"\n",
            "findfont: Font family ['Helvetica'] not found. Falling back to DejaVu Sans.\n",
            "findfont: Font family ['Brush Script MT'] not found. Falling back to DejaVu Sans.\n"
          ]
        },
        {
          "output_type": "display_data",
          "data": {
            "image/png": "[encoded data removed]",
            "text/plain": [
              "<Figure size 576x576 with 1 Axes>"
            ]
          },
          "metadata": {
            "needs_background": "light"
          }
        }
      ]
    },
    {
      "cell_type": "markdown",
      "metadata": {
        "id": "AjZMJh76W83Q"
      },
      "source": [
        " ## Input data preparation"
      ]
    },
    {
      "cell_type": "markdown",
      "metadata": {
        "id": "s1XaUsuJXFbv"
      },
      "source": [
        "Input data (900 x 4): First three columns will be three times 300 x 3 PC components and 4th column will be work hardening coeffcients"
      ]
    },
    {
      "cell_type": "code",
      "metadata": {
        "id": "q1kXPNGmXCtg"
      },
      "source": [
        "h1 = np.reshape(0.24 * np.ones(300),[300,1])\n",
        "h2 = np.reshape(0.34 * np.ones(300),[300,1])\n",
        "h3 = np.reshape(0.44 * np.ones(300),[300,1])\n",
        "pc1 = np.hstack([anew_pca,h1])\n",
        "pc2 = np.hstack([anew_pca,h2])\n",
        "pc3 = np.hstack([anew_pca,h3])\n",
        "\n",
        "inp_data = np.vstack([pc1,pc2,pc3])"
      ],
      "execution_count": null,
      "outputs": []
    },
    {
      "cell_type": "code",
      "metadata": {
        "colab": {
          "base_uri": "https://localhost:8080/"
        },
        "id": "gAoXRqQ_ZSrI",
        "outputId": "20169061-3f2a-44f3-8401-11056ce1ada4"
      },
      "source": [
        "inp_data.shape"
      ],
      "execution_count": null,
      "outputs": [
        {
          "output_type": "execute_result",
          "data": {
            "text/plain": [
              "(900, 4)"
            ]
          },
          "metadata": {},
          "execution_count": 7
        }
      ]
    },
    {
      "cell_type": "markdown",
      "metadata": {
        "id": "M-FBOE7Xa6kg"
      },
      "source": [
        "## ROM Generation import"
      ]
    },
    {
      "cell_type": "code",
      "metadata": {
        "id": "RC64gxFpa8oV"
      },
      "source": [
        "from sklearn.ensemble import RandomForestRegressor\n",
        "from sklearn.linear_model import LinearRegression\n",
        "from sklearn.model_selection import train_test_split\n",
        "from sklearn.metrics import mean_squared_error as mse\n",
        "from sklearn.metrics import mean_absolute_error as mae\n",
        "from sklearn.metrics import mean_absolute_percentage_error as mpe\n",
        "from sklearn.metrics import r2_score as r2"
      ],
      "execution_count": null,
      "outputs": []
    },
    {
      "cell_type": "code",
      "metadata": {
        "id": "_-O1QoIKcrnY",
        "colab": {
          "base_uri": "https://localhost:8080/"
        },
        "outputId": "c0448960-1ed7-4e30-9e75-ea7ebc02f67d"
      },
      "source": [
        "%%time\n",
        "# Import the damage initiation stress data for all 900 RVEs (900 x 1)\n",
        "dam_1 = pd.read_csv('/content/gdrive/My Drive/Work from home/Vir files/Damage prediction/Damage_0.24.csv', header = None)\n",
        "dam_2 = pd.read_csv('/content/gdrive/My Drive/Work from home/Vir files/Damage prediction/Damage_0.34.csv', header = None)\n",
        "dam_3 = pd.read_csv('/content/gdrive/My Drive/Work from home/Vir files/Damage prediction/Damage_0.44.csv', header = None)\n",
        "y1 = dam_1.values\n",
        "y2 = dam_2.values\n",
        "y3 = dam_3.values"
      ],
      "execution_count": null,
      "outputs": [
        {
          "output_type": "stream",
          "name": "stdout",
          "text": [
            "CPU times: user 23.3 ms, sys: 3.05 ms, total: 26.3 ms\n",
            "Wall time: 1.87 s\n"
          ]
        }
      ]
    },
    {
      "cell_type": "code",
      "metadata": {
        "colab": {
          "base_uri": "https://localhost:8080/"
        },
        "id": "eSymWtQglt4t",
        "outputId": "1955f31e-dd05-4a69-a648-1887d5070f6e"
      },
      "source": [
        "y = np.vstack([y1,y2,y3])\n",
        "y.shape"
      ],
      "execution_count": null,
      "outputs": [
        {
          "output_type": "execute_result",
          "data": {
            "text/plain": [
              "(900, 1)"
            ]
          },
          "metadata": {},
          "execution_count": 10
        }
      ]
    },
    {
      "cell_type": "markdown",
      "source": [
        "# Random forest model"
      ],
      "metadata": {
        "id": "qNgIyy-lb8Td"
      }
    },
    {
      "cell_type": "code",
      "source": [
        "from sklearn import ensemble\n",
        "from sklearn.model_selection import cross_val_score\n",
        "from sklearn.model_selection import cross_val_predict\n",
        "from sklearn.model_selection import GridSearchCV\n",
        "from sklearn.model_selection import RandomizedSearchCV"
      ],
      "metadata": {
        "id": "2TUsRWRspLSw"
      },
      "execution_count": null,
      "outputs": []
    },
    {
      "cell_type": "code",
      "source": [
        "# To check which microstructure in taken in random split\n",
        "h1 = np.reshape(1 * np.ones(50),[50,1])\n",
        "h2 = np.reshape(2 * np.ones(50),[50,1])\n",
        "h3 = np.reshape(3 * np.ones(50),[50,1])\n",
        "h4 = np.reshape(4 * np.ones(50),[50,1])\n",
        "h5 = np.reshape(5 * np.ones(50),[50,1])\n",
        "h6 = np.reshape(6 * np.ones(50),[50,1])\n",
        "cls = np.vstack([h1,h2,h3,h4,h5,h6])\n",
        "index = np.vstack([cls,cls,cls])\n",
        "inp_data1 = np.hstack([index,inp_data])"
      ],
      "metadata": {
        "id": "0OkdcXenznR2"
      },
      "execution_count": null,
      "outputs": []
    },
    {
      "cell_type": "code",
      "source": [
        "# Data split  \n",
        "x_train, x_test, y_train, y_test = train_test_split(inp_data1,y,test_size=0.2,random_state=1)\n",
        "class_train = x_train[:,1:5]; class_test = x_test[:,1:5];  out_train= y_train; out_test = y_test; "
      ],
      "metadata": {
        "id": "NIt7hu-grk4v"
      },
      "execution_count": null,
      "outputs": []
    },
    {
      "cell_type": "code",
      "source": [
        "# Code to check the split of data\n",
        "ph1 = 0; ph2 = 0; ph3 = 0; ph4 = 0; ph5 = 0; ph6 = 0;\n",
        "split_data = x_test # to check split in test or train data\n",
        "for i in range(len(split_data)):\n",
        "  if(split_data[i,0] == 1):\n",
        "    ph1 = ph1 + 1\n",
        "  elif(split_data[i,0] == 2):\n",
        "    ph2 = ph2 + 1\n",
        "  elif(split_data[i,0] == 3):\n",
        "    ph3 = ph3 + 1\n",
        "  elif(split_data[i,0] == 4):\n",
        "    ph4 = ph4 + 1\n",
        "  elif(split_data[i,0] == 5):\n",
        "    ph5 = ph5 + 1\n",
        "  elif(split_data[i,0] == 6):\n",
        "    ph6 = ph6 + 1\n",
        "cont = np.vstack([ph1,ph2,ph3,ph4,ph5,ph6])\n",
        "cont"
      ],
      "metadata": {
        "colab": {
          "base_uri": "https://localhost:8080/"
        },
        "id": "WpZY2UAT1Vz9",
        "outputId": "071ef4e4-f463-465c-9c50-02a181dfa760"
      },
      "execution_count": null,
      "outputs": [
        {
          "output_type": "execute_result",
          "data": {
            "text/plain": [
              "array([[32],\n",
              "       [30],\n",
              "       [29],\n",
              "       [26],\n",
              "       [31],\n",
              "       [32]])"
            ]
          },
          "metadata": {},
          "execution_count": 16
        }
      ]
    },
    {
      "cell_type": "code",
      "source": [
        "# Code to check the split of data\n",
        "ha1 = 0; ha2 = 0; ha3 = 0;\n",
        "split_data = x_test # to check split in test or train data\n",
        "for i in range(len(split_data)):\n",
        "  if(split_data[i,4] == 0.24):\n",
        "    ha1 = ha1 + 1\n",
        "  elif(split_data[i,4] == 0.34):\n",
        "    ha2 = ha2 + 1\n",
        "  elif(split_data[i,4] == 0.44):\n",
        "    ha3 = ha3 + 1\n",
        "cont_ha = np.vstack([ha1,ha2,ha3])\n",
        "cont_ha"
      ],
      "metadata": {
        "colab": {
          "base_uri": "https://localhost:8080/"
        },
        "id": "gmAXMw1s3z7O",
        "outputId": "efbf6e22-1b76-4c95-e0ce-0f1cba9c7aa8"
      },
      "execution_count": null,
      "outputs": [
        {
          "output_type": "execute_result",
          "data": {
            "text/plain": [
              "array([[60],\n",
              "       [55],\n",
              "       [65]])"
            ]
          },
          "metadata": {},
          "execution_count": 15
        }
      ]
    },
    {
      "cell_type": "code",
      "metadata": {
        "colab": {
          "base_uri": "https://localhost:8080/"
        },
        "id": "2eQnDt_eo3OB",
        "outputId": "ec9a0e23-9dd5-4cee-bf40-af949eaee481"
      },
      "source": [
        "# Model fitting\n",
        "dt=ensemble.RandomForestRegressor(n_estimators=20,max_depth=7,random_state=1)\n",
        "dt.fit(class_train,out_train)\n",
        "dt.score(class_test,out_test)"
      ],
      "execution_count": null,
      "outputs": [
        {
          "output_type": "stream",
          "name": "stderr",
          "text": [
            "/usr/local/lib/python3.7/dist-packages/ipykernel_launcher.py:3: DataConversionWarning: A column-vector y was passed when a 1d array was expected. Please change the shape of y to (n_samples,), for example using ravel().\n",
            "  This is separate from the ipykernel package so we can avoid doing imports until\n"
          ]
        },
        {
          "output_type": "execute_result",
          "data": {
            "text/plain": [
              "0.9704940282888259"
            ]
          },
          "metadata": {},
          "execution_count": 14
        }
      ]
    },
    {
      "cell_type": "code",
      "source": [
        "dt.score(class_train,out_train)"
      ],
      "metadata": {
        "colab": {
          "base_uri": "https://localhost:8080/"
        },
        "id": "APwz_0Fj_gXz",
        "outputId": "894a2d5e-df0d-4ec5-b4c7-24a81753a68f"
      },
      "execution_count": null,
      "outputs": [
        {
          "output_type": "execute_result",
          "data": {
            "text/plain": [
              "0.9851901677190446"
            ]
          },
          "metadata": {},
          "execution_count": 15
        }
      ]
    },
    {
      "cell_type": "code",
      "source": [
        "# Cross validation\n",
        "predicted = cross_val_predict(ensemble.RandomForestRegressor(n_estimators=20,max_depth=7,random_state=1), class_train,out_train, cv=10)"
      ],
      "metadata": {
        "colab": {
          "base_uri": "https://localhost:8080/"
        },
        "id": "UIOY9COzREFF",
        "outputId": "0d6ca53b-52ca-4edd-872f-b40b09e2a0dd"
      },
      "execution_count": null,
      "outputs": [
        {
          "output_type": "stream",
          "name": "stderr",
          "text": [
            "/usr/local/lib/python3.7/dist-packages/sklearn/model_selection/_validation.py:1044: DataConversionWarning: A column-vector y was passed when a 1d array was expected. Please change the shape of y to (n_samples,), for example using ravel().\n",
            "  estimator.fit(X_train, y_train, **fit_params)\n",
            "/usr/local/lib/python3.7/dist-packages/sklearn/model_selection/_validation.py:1044: DataConversionWarning: A column-vector y was passed when a 1d array was expected. Please change the shape of y to (n_samples,), for example using ravel().\n",
            "  estimator.fit(X_train, y_train, **fit_params)\n",
            "/usr/local/lib/python3.7/dist-packages/sklearn/model_selection/_validation.py:1044: DataConversionWarning: A column-vector y was passed when a 1d array was expected. Please change the shape of y to (n_samples,), for example using ravel().\n",
            "  estimator.fit(X_train, y_train, **fit_params)\n",
            "/usr/local/lib/python3.7/dist-packages/sklearn/model_selection/_validation.py:1044: DataConversionWarning: A column-vector y was passed when a 1d array was expected. Please change the shape of y to (n_samples,), for example using ravel().\n",
            "  estimator.fit(X_train, y_train, **fit_params)\n",
            "/usr/local/lib/python3.7/dist-packages/sklearn/model_selection/_validation.py:1044: DataConversionWarning: A column-vector y was passed when a 1d array was expected. Please change the shape of y to (n_samples,), for example using ravel().\n",
            "  estimator.fit(X_train, y_train, **fit_params)\n",
            "/usr/local/lib/python3.7/dist-packages/sklearn/model_selection/_validation.py:1044: DataConversionWarning: A column-vector y was passed when a 1d array was expected. Please change the shape of y to (n_samples,), for example using ravel().\n",
            "  estimator.fit(X_train, y_train, **fit_params)\n",
            "/usr/local/lib/python3.7/dist-packages/sklearn/model_selection/_validation.py:1044: DataConversionWarning: A column-vector y was passed when a 1d array was expected. Please change the shape of y to (n_samples,), for example using ravel().\n",
            "  estimator.fit(X_train, y_train, **fit_params)\n",
            "/usr/local/lib/python3.7/dist-packages/sklearn/model_selection/_validation.py:1044: DataConversionWarning: A column-vector y was passed when a 1d array was expected. Please change the shape of y to (n_samples,), for example using ravel().\n",
            "  estimator.fit(X_train, y_train, **fit_params)\n",
            "/usr/local/lib/python3.7/dist-packages/sklearn/model_selection/_validation.py:1044: DataConversionWarning: A column-vector y was passed when a 1d array was expected. Please change the shape of y to (n_samples,), for example using ravel().\n",
            "  estimator.fit(X_train, y_train, **fit_params)\n",
            "/usr/local/lib/python3.7/dist-packages/sklearn/model_selection/_validation.py:1044: DataConversionWarning: A column-vector y was passed when a 1d array was expected. Please change the shape of y to (n_samples,), for example using ravel().\n",
            "  estimator.fit(X_train, y_train, **fit_params)\n"
          ]
        }
      ]
    },
    {
      "cell_type": "code",
      "source": [
        "# Model testing on metrics\n",
        "pred_class_test = dt.predict(class_test)\n",
        "r2(out_test,pred_class_test)"
      ],
      "metadata": {
        "colab": {
          "base_uri": "https://localhost:8080/"
        },
        "id": "nT00IRTNnT49",
        "outputId": "a94a051a-c49d-47bb-fc16-fafae9e334f2"
      },
      "execution_count": null,
      "outputs": [
        {
          "output_type": "execute_result",
          "data": {
            "text/plain": [
              "0.9704940282888259"
            ]
          },
          "metadata": {},
          "execution_count": 20
        }
      ]
    },
    {
      "cell_type": "code",
      "source": [
        "mse(out_test,pred_class_test)"
      ],
      "metadata": {
        "colab": {
          "base_uri": "https://localhost:8080/"
        },
        "outputId": "ddd46fe8-5205-4c68-c70c-77de18457f86",
        "id": "yIBqfoMsvS5W"
      },
      "execution_count": null,
      "outputs": [
        {
          "output_type": "execute_result",
          "data": {
            "text/plain": [
              "537.4702915701525"
            ]
          },
          "metadata": {},
          "execution_count": 21
        }
      ]
    },
    {
      "cell_type": "code",
      "source": [
        "mae(out_test,pred_class_test)"
      ],
      "metadata": {
        "colab": {
          "base_uri": "https://localhost:8080/"
        },
        "outputId": "fa49b692-1ce2-4e6d-dd86-f5b7417c7286",
        "id": "0zcX5XlxvS5W"
      },
      "execution_count": null,
      "outputs": [
        {
          "output_type": "execute_result",
          "data": {
            "text/plain": [
              "18.30262340625969"
            ]
          },
          "metadata": {},
          "execution_count": 22
        }
      ]
    },
    {
      "cell_type": "code",
      "source": [
        "mpe(out_test,pred_class_test)"
      ],
      "metadata": {
        "colab": {
          "base_uri": "https://localhost:8080/"
        },
        "outputId": "74ff7994-b83c-4e90-fd04-fa0f593eae73",
        "id": "87_UL_msvS5W"
      },
      "execution_count": null,
      "outputs": [
        {
          "output_type": "execute_result",
          "data": {
            "text/plain": [
              "0.018827821099555116"
            ]
          },
          "metadata": {},
          "execution_count": 23
        }
      ]
    },
    {
      "cell_type": "code",
      "source": [
        "importances = dt.feature_importances_\n",
        "\n",
        "forest_importances = pd.Series(importances, index=['PC1', 'PC2', 'PC3', 'WH'])\n",
        "std = np.std([tree.feature_importances_ for tree in dt.estimators_], axis=0)\n",
        "\n",
        "fig, ax = plt.subplots()\n",
        "forest_importances.plot.bar(yerr=std, ax=ax)\n",
        "ax.set_title(\"Feature importances using MDI\")\n",
        "ax.set_ylabel(\"Mean decrease in impurity\")\n",
        "fig.tight_layout()"
      ],
      "metadata": {
        "colab": {
          "base_uri": "https://localhost:8080/",
          "height": 297
        },
        "outputId": "2004f0c9-0760-4c9f-8250-cfe6f582714f",
        "id": "Lt06OUPvQDAq"
      },
      "execution_count": null,
      "outputs": [
        {
          "output_type": "display_data",
          "data": {
            "text/plain": [
              "<Figure size 432x288 with 1 Axes>"
            ],
            "image/png": "[encoded data removed]"
          },
          "metadata": {
            "needs_background": "light"
          }
        }
      ]
    },
    {
      "cell_type": "code",
      "source": [
        "forest_importances"
      ],
      "metadata": {
        "colab": {
          "base_uri": "https://localhost:8080/"
        },
        "outputId": "208d1146-e959-4199-f1d8-cf1471e7f0bf",
        "id": "oqgc11h-QDAq"
      },
      "execution_count": null,
      "outputs": [
        {
          "output_type": "execute_result",
          "data": {
            "text/plain": [
              "PC1    0.086083\n",
              "PC2    0.006354\n",
              "PC3    0.290469\n",
              "WH     0.617093\n",
              "dtype: float64"
            ]
          },
          "metadata": {},
          "execution_count": 17
        }
      ]
    },
    {
      "cell_type": "code",
      "source": [
        "from sklearn.tree import plot_tree\n",
        "\n",
        "fig = plt.figure(figsize=(50, 50))\n",
        "#fig = plt.figure\n",
        "plot_tree(dt.estimators_[4], feature_names= ['PC1', 'PC2', 'PC3', 'WH'])\n"
      ],
      "metadata": {
        "id": "5b1FXVruQDAq"
      },
      "execution_count": null,
      "outputs": []
    },
    {
      "cell_type": "markdown",
      "metadata": {
        "id": "Sa-XOJcSCYC2"
      },
      "source": [
        "# Actual & GAN microstructure comparison\n"
      ]
    },
    {
      "cell_type": "code",
      "metadata": {
        "id": "HaWAhwcIwPyI",
        "colab": {
          "base_uri": "https://localhost:8080/"
        },
        "outputId": "8afaae7c-e83a-4957-c727-678f5d6fb21e"
      },
      "source": [
        "%%time\n",
        "# Import the damage initiation stress data for all 900 RVEs (900 x 1)\n",
        "dam_m = pd.read_csv('/content/gdrive/My Drive/Work from home/Vir files/Damage prediction/corr_m.csv', header = None)\n",
        "dam_g = pd.read_csv('/content/gdrive/My Drive/Work from home/Vir files/Damage prediction/corr_g.csv', header = None)\n",
        "ind_1 = pd.read_csv('/content/gdrive/My Drive/Work from home/Vir files/Damage prediction/Index_max_0.24.csv', header = None)\n",
        "ind_2 = pd.read_csv('/content/gdrive/My Drive/Work from home/Vir files/Damage prediction/Index_max_0.34.csv', header = None)\n",
        "ind_3 = pd.read_csv('/content/gdrive/My Drive/Work from home/Vir files/Damage prediction/Index_max_0.44.csv', header = None)\n",
        "\n",
        "dam_g_lat = pd.read_csv('/content/gdrive/My Drive/Work from home/Vir files/Damage prediction/corr_g_lat.csv', header = None)\n",
        "\n",
        "x1 = dam_m.values\n",
        "x2 = dam_g.values\n",
        "x3 = dam_g_lat.values\n",
        "y_all = np.vstack([ind_1.values,ind_2.values,ind_3.values])\n"
      ],
      "execution_count": null,
      "outputs": [
        {
          "output_type": "stream",
          "name": "stdout",
          "text": [
            "CPU times: user 1min 14s, sys: 4.23 s, total: 1min 18s\n",
            "Wall time: 1min 22s\n"
          ]
        }
      ]
    },
    {
      "cell_type": "code",
      "metadata": {
        "colab": {
          "base_uri": "https://localhost:8080/"
        },
        "id": "ggZb-KubFq3e",
        "outputId": "acee4415-58b9-4f7f-88f0-cefe1290320e"
      },
      "source": [
        "y_all[:,1]"
      ],
      "execution_count": null,
      "outputs": [
        {
          "output_type": "execute_result",
          "data": {
            "text/plain": [
              "array([ 864.52,  764.13,  855.93, 1035.  ,  868.85, 1009.9 ,  976.98,\n",
              "        888.28,  984.36, 1154.8 , 1012.5 , 1129.  , 1109.1 , 1060.7 ,\n",
              "       1125.4 , 1258.6 , 1153.1 , 1249.  ])"
            ]
          },
          "metadata": {},
          "execution_count": 18
        }
      ]
    },
    {
      "cell_type": "code",
      "metadata": {
        "id": "oKo1W-uzCleH"
      },
      "source": [
        "# Performing PCA on all at once\n",
        "ID = 3\n",
        "pca_m = PCA(n_components = ID).fit(x1)\n",
        "anew_pca_m = pca_m.transform(x1)\n",
        "pca_g = PCA(n_components = ID).fit(x2)\n",
        "anew_pca_g = pca_g.transform(x2)"
      ],
      "execution_count": null,
      "outputs": []
    },
    {
      "cell_type": "code",
      "source": [
        "print('With the ',ID,' components, we can retain',sum(pca_g.explained_variance_ratio_)*100,'percent data')"
      ],
      "metadata": {
        "colab": {
          "base_uri": "https://localhost:8080/"
        },
        "id": "OMO8afychMoJ",
        "outputId": "f0a85bbe-2da8-48a8-9468-6d565ebefdb0"
      },
      "execution_count": null,
      "outputs": [
        {
          "output_type": "stream",
          "name": "stdout",
          "text": [
            "With the  3  components, we can retain 97.39645173459496 percent data\n"
          ]
        }
      ]
    },
    {
      "cell_type": "code",
      "source": [
        "print('With the ',ID,' components, we can retain',sum(pca_m.explained_variance_ratio_)*100,'percent data')"
      ],
      "metadata": {
        "colab": {
          "base_uri": "https://localhost:8080/"
        },
        "id": "9bxervMIhA2p",
        "outputId": "08ba76e3-f7d1-4ba8-a4a9-c765f5eaef54"
      },
      "execution_count": null,
      "outputs": [
        {
          "output_type": "stream",
          "name": "stdout",
          "text": [
            "With the  3  components, we can retain 97.08820122768715 percent data\n"
          ]
        }
      ]
    },
    {
      "cell_type": "code",
      "source": [
        "term1 = np.vstack([anew_pca_m[0,:],anew_pca_m[6,:],anew_pca_m[12,:]])\n",
        "term2 = np.vstack([anew_pca_m[1,:],anew_pca_m[7,:],anew_pca_m[13,:]])\n",
        "term3 = np.vstack([anew_pca_m[2,:],anew_pca_m[8,:],anew_pca_m[14,:]])\n",
        "term4 = np.vstack([anew_pca_m[3,:],anew_pca_m[9,:],anew_pca_m[15,:]])\n",
        "term5 = np.vstack([anew_pca_m[4,:],anew_pca_m[10,:],anew_pca_m[16,:]])\n",
        "term6 = np.vstack([anew_pca_m[5,:],anew_pca_m[11,:],anew_pca_m[17,:]])\n",
        "class_wise_m = np.vstack([term1,term2,term3,term4,term5,term6,])\n",
        "class_wise_m"
      ],
      "metadata": {
        "colab": {
          "base_uri": "https://localhost:8080/"
        },
        "id": "B8TvKBLW5YLK",
        "outputId": "8b86cacf-7081-40bb-bfc9-dce51c0d4ffb"
      },
      "execution_count": null,
      "outputs": [
        {
          "output_type": "execute_result",
          "data": {
            "text/plain": [
              "array([[13.23359234,  0.04405784,  0.51349063],\n",
              "       [13.23359234,  0.04405784,  0.51349063],\n",
              "       [12.04579557, -0.0911476 ,  0.27367716],\n",
              "       [-6.95662387, -0.07696448, -2.56937016],\n",
              "       [-6.45656961,  0.03831879, -2.43143942],\n",
              "       [-6.95662387, -0.07696448, -2.56937016],\n",
              "       [ 2.04190637, -0.0572957 , -1.24219351],\n",
              "       [ 1.66329928,  0.22010624, -1.03663657],\n",
              "       [ 1.72441942, -0.19539373, -1.41035169],\n",
              "       [-4.03589989,  4.85342336,  2.51678753],\n",
              "       [-4.03589989,  4.85342336,  2.51678753],\n",
              "       [-4.12893479,  4.19253077,  1.8985806 ],\n",
              "       [-0.22451497, -0.26840618, -1.69526375],\n",
              "       [ 0.28304141, -0.03177191, -1.42654382],\n",
              "       [ 1.11587297, -0.13612172, -1.39542624],\n",
              "       [-3.55161686, -4.34422946,  2.11932038],\n",
              "       [-4.65265418, -4.55872281,  2.66119456],\n",
              "       [-4.34218175, -4.40890016,  2.76326632]])"
            ]
          },
          "metadata": {},
          "execution_count": 52
        }
      ]
    },
    {
      "cell_type": "code",
      "source": [
        "term1 = np.vstack([anew_pca_g[0,:],anew_pca_g[6,:],anew_pca_g[12,:]])\n",
        "term2 = np.vstack([anew_pca_g[1,:],anew_pca_g[7,:],anew_pca_g[13,:]])\n",
        "term3 = np.vstack([anew_pca_g[2,:],anew_pca_g[8,:],anew_pca_g[14,:]])\n",
        "term4 = np.vstack([anew_pca_g[3,:],anew_pca_g[9,:],anew_pca_g[15,:]])\n",
        "term5 = np.vstack([anew_pca_g[4,:],anew_pca_g[10,:],anew_pca_g[16,:]])\n",
        "term6 = np.vstack([anew_pca_g[5,:],anew_pca_g[11,:],anew_pca_g[17,:]])\n",
        "class_wise_g = np.vstack([term1,term2,term3,term4,term5,term6,])\n",
        "class_wise_g"
      ],
      "metadata": {
        "colab": {
          "base_uri": "https://localhost:8080/"
        },
        "id": "PPCugpwN50Qh",
        "outputId": "751b1fe1-7148-49b5-d0fd-02500b664bc0"
      },
      "execution_count": null,
      "outputs": [
        {
          "output_type": "execute_result",
          "data": {
            "text/plain": [
              "array([[16.08946696,  0.25389843,  1.05087877],\n",
              "       [16.08946696,  0.25389843,  1.05087877],\n",
              "       [14.88182636,  0.81216419,  1.26505841],\n",
              "       [-6.28251581, -1.87277366, -2.70060283],\n",
              "       [-6.3177244 , -1.58380104, -2.52106525],\n",
              "       [-6.28251581, -1.87277366, -2.70060283],\n",
              "       [ 0.11484649, -1.35876436, -1.66347875],\n",
              "       [ 0.37925091, -4.91010654, -3.91727024],\n",
              "       [ 0.59215009, -2.3647426 , -2.29210382],\n",
              "       [-5.24098685,  5.94441159, -1.39304992],\n",
              "       [-5.24098685,  5.94441159, -1.39304992],\n",
              "       [-5.23540345,  6.80602671, -0.78701908],\n",
              "       [ 2.70930028,  2.30969091,  1.3192523 ],\n",
              "       [ 2.0429166 , -3.03668258, -2.32457376],\n",
              "       [ 3.15060892,  0.6538371 ,  0.32194951],\n",
              "       [-6.4858279 , -0.40950491,  6.23597815],\n",
              "       [-8.18911887, -3.58182033,  4.8059987 ],\n",
              "       [-6.77475365, -1.98736927,  5.64282178]])"
            ]
          },
          "metadata": {},
          "execution_count": 53
        }
      ]
    },
    {
      "cell_type": "markdown",
      "source": [
        "# GAN microstructure prediction using ROM"
      ],
      "metadata": {
        "id": "elIY-akHVH9x"
      }
    },
    {
      "cell_type": "code",
      "metadata": {
        "id": "9Bx4ooBPEmo7"
      },
      "source": [
        "# Input data generation\n",
        "h_1 = np.reshape(0.24 * np.ones(6),[6,1])\n",
        "h_2 = np.reshape(0.34 * np.ones(6),[6,1])\n",
        "h_3 = np.reshape(0.44 * np.ones(6),[6,1])\n",
        "inp_h = np.vstack([h_1,h_2,h_3])"
      ],
      "execution_count": null,
      "outputs": []
    },
    {
      "cell_type": "code",
      "source": [
        "inp_g = np.hstack([anew_pca_g,inp_h])\n",
        "inp_m = np.hstack([anew_pca_m,inp_h])"
      ],
      "metadata": {
        "id": "TxhkjYph0jw5"
      },
      "execution_count": null,
      "outputs": []
    },
    {
      "cell_type": "code",
      "metadata": {
        "colab": {
          "base_uri": "https://localhost:8080/"
        },
        "id": "gq1d2j3lFSyQ",
        "outputId": "43df54bd-194c-41ee-f1d8-3480ca648201"
      },
      "source": [
        "# Predicting using random forest model\n",
        "pred_g = dt.predict(inp_g)\n",
        "print(\"Rsquare (class test): %f\" %(dt.score(inp_g, y_all[:,1])))\n"
      ],
      "execution_count": null,
      "outputs": [
        {
          "output_type": "stream",
          "name": "stdout",
          "text": [
            "Rsquare (class test): 0.499097\n"
          ]
        }
      ]
    },
    {
      "cell_type": "code",
      "source": [
        "# Predicting using random forest model\n",
        "pred_m = dt.predict(inp_m)\n",
        "print(\"Rsquare (class test): %f\" %(dt.score(inp_m, y_all[:,1])))"
      ],
      "metadata": {
        "colab": {
          "base_uri": "https://localhost:8080/"
        },
        "id": "oKQSzvRQ0s3B",
        "outputId": "d6970288-1f9b-4a72-bf06-c68ee88df798"
      },
      "execution_count": null,
      "outputs": [
        {
          "output_type": "stream",
          "name": "stdout",
          "text": [
            "Rsquare (class test): 0.833278\n"
          ]
        }
      ]
    },
    {
      "cell_type": "code",
      "source": [
        "pred_m"
      ],
      "metadata": {
        "colab": {
          "base_uri": "https://localhost:8080/"
        },
        "id": "Bcfpz_KV06Dx",
        "outputId": "0a0a7b24-1069-4ebb-a1af-b955dcf3b40b"
      },
      "execution_count": null,
      "outputs": [
        {
          "output_type": "execute_result",
          "data": {
            "text/plain": [
              "array([ 827.83464971,  724.94318739,  822.38414063,  970.91005219,\n",
              "        806.58089804,  932.64319161,  940.4255635 ,  852.75412727,\n",
              "        935.68377581, 1092.55605797,  948.87732175, 1077.34701856,\n",
              "       1089.83400971,  987.89497844, 1081.52439212, 1181.20267575,\n",
              "       1090.92957201, 1176.76835516])"
            ]
          },
          "metadata": {},
          "execution_count": 23
        }
      ]
    },
    {
      "cell_type": "code",
      "metadata": {
        "colab": {
          "base_uri": "https://localhost:8080/"
        },
        "id": "3cBXcvtHGFWS",
        "outputId": "55508296-2ac0-49be-af02-10a18eaed1dc"
      },
      "source": [
        "pred_g"
      ],
      "execution_count": null,
      "outputs": [
        {
          "output_type": "execute_result",
          "data": {
            "text/plain": [
              "array([ 853.30636592,  728.3643739 ,  805.86961127,  798.04667727,\n",
              "        939.55665293,  974.12496327,  945.45905651,  853.09304137,\n",
              "        934.22627715,  946.30009975,  928.9244053 , 1122.56475198,\n",
              "       1111.25330206,  995.56260623, 1084.33882031, 1071.27639123,\n",
              "       1076.84083888, 1229.20406264])"
            ]
          },
          "metadata": {},
          "execution_count": 24
        }
      ]
    },
    {
      "cell_type": "code",
      "metadata": {
        "colab": {
          "base_uri": "https://localhost:8080/"
        },
        "id": "eyhR4Z69GHVf",
        "outputId": "ca6c83b4-9ade-4a39-ee36-793edfaac2b9"
      },
      "source": [
        "y_all[:,1]"
      ],
      "execution_count": null,
      "outputs": [
        {
          "output_type": "execute_result",
          "data": {
            "text/plain": [
              "array([ 864.52,  764.13,  855.93, 1035.  ,  868.85, 1009.9 ,  976.98,\n",
              "        888.28,  984.36, 1154.8 , 1012.5 , 1129.  , 1109.1 , 1060.7 ,\n",
              "       1125.4 , 1258.6 , 1153.1 , 1249.  ])"
            ]
          },
          "metadata": {},
          "execution_count": 37
        }
      ]
    },
    {
      "cell_type": "code",
      "metadata": {
        "colab": {
          "base_uri": "https://localhost:8080/",
          "height": 403
        },
        "id": "U22NAsH-Fb2f",
        "outputId": "91e21bb2-03b5-41a7-8017-2602b6ddc314"
      },
      "source": [
        "# Hardening coefficients wise plot\n",
        "fig = plt.figure(figsize=plt.figaspect(1)*1.5)\n",
        "plt.plot(y_all[0:6,1],pred_g[0:6],'o',label='Hard 0.24')\n",
        "plt.plot(y_all[6:13,1],pred_g[6:13],'o',label='Hard 0.34')\n",
        "plt.plot(y_all[13:18,1],pred_g[13:18],'o',label='Hard 0.44')\n",
        "\n",
        "#plt.title('QQ plot', fontsize = 18)\n",
        "plt.ylabel('Prediction', fontsize = 16)\n",
        "plt.xlabel('Actual', fontsize = 16)\n",
        "#plt.axhline(y = 0.95, color='k', linestyle='--', label = '95% Explained Variance')\n",
        "\n",
        "plt.plot([0,1300],[0,1300],color='k', linestyle='--',linewidth=0.5)\n",
        "plt.legend(loc='lower right', fontsize = 11)\n",
        "plt.tick_params(axis='both', labelsize=14)\n",
        "plt.ylim(650,1300)\n",
        "plt.xlim(650,1300)\n",
        "plt.grid(True)\n",
        "#plt.savefig('/content/gdrive/My Drive/Work from home/QQ.png')\n",
        "#ax.set_facecolor('white')\n",
        "plt.show()"
      ],
      "execution_count": null,
      "outputs": [
        {
          "output_type": "display_data",
          "data": {
            "text/plain": [
              "<Figure size 432x432 with 1 Axes>"
            ],
            "image/png": "[encoded data removed]"
          },
          "metadata": {
            "needs_background": "light"
          }
        }
      ]
    },
    {
      "cell_type": "code",
      "metadata": {
        "colab": {
          "base_uri": "https://localhost:8080/",
          "height": 403
        },
        "id": "C_LinGfEGAoP",
        "outputId": "02cf0422-7c95-49ed-aa65-4628fab4a562"
      },
      "source": [
        "# Class wise plot\n",
        "fig = plt.figure(figsize=plt.figaspect(1)*1.5)\n",
        "plt.plot(y_all[0,1],pred_g[0],'ob',label='Class 1')\n",
        "plt.plot(y_all[6,1],pred_g[6],'ob')\n",
        "plt.plot(y_all[12,1],pred_g[12],'ob')\n",
        "plt.plot(y_all[1,1],pred_g[1],'or',label='Class 2')\n",
        "plt.plot(y_all[7,1],pred_g[7],'or')\n",
        "plt.plot(y_all[13,1],pred_g[13],'or')\n",
        "plt.plot(y_all[2,1],pred_g[2],'oy',label='Class 3')\n",
        "plt.plot(y_all[8,1],pred_g[8],'oy')\n",
        "plt.plot(y_all[14,1],pred_g[14],'oy')\n",
        "plt.plot(y_all[3,1],pred_g[3],'og',label='Class 4')\n",
        "plt.plot(y_all[9,1],pred_g[9],'og')\n",
        "plt.plot(y_all[15,1],pred_g[15],'og')\n",
        "plt.plot(y_all[4,1],pred_g[4],'ok',label='Class 5')\n",
        "plt.plot(y_all[10,1],pred_g[10],'ok')\n",
        "plt.plot(y_all[16,1],pred_g[16],'ok')\n",
        "plt.plot(y_all[5,1],pred_g[5],'oc',label='Class 6')\n",
        "plt.plot(y_all[11,1],pred_g[11],'oc')\n",
        "plt.plot(y_all[17,1],pred_g[17],'oc')\n",
        "\n",
        "plt.plot([0,1300],[0,1300],color='k', linestyle='--',linewidth=0.5)\n",
        "#plt.title('QQ plot', fontsize = 18)\n",
        "plt.ylabel('Prediction', fontsize = 16)\n",
        "plt.xlabel('Actual', fontsize = 16)\n",
        "#plt.axhline(y = 0.95, color='k', linestyle='--', label = '95% Explained Variance')\n",
        "\n",
        "plt.legend(loc='lower right', fontsize = 11)\n",
        "plt.tick_params(axis='both', labelsize=14)\n",
        "plt.ylim(650,1300)\n",
        "plt.xlim(650,1300)\n",
        "plt.grid(True)\n",
        "#plt.savefig('/content/gdrive/My Drive/Work from home/QQ.png')\n",
        "#ax.set_facecolor('white')\n",
        "plt.show()"
      ],
      "execution_count": null,
      "outputs": [
        {
          "output_type": "display_data",
          "data": {
            "text/plain": [
              "<Figure size 432x432 with 1 Axes>"
            ],
            "image/png": "[encoded data removed]"
          },
          "metadata": {
            "needs_background": "light"
          }
        }
      ]
    },
    {
      "cell_type": "code",
      "source": [
        "r = np.empty(6)\n",
        "for i in range (6):\n",
        "  m_pre = np.vstack([pred_m[i],pred_m[i+6],pred_m[i+12]])\n",
        "  g_pre = np.vstack([pred_g[i],pred_g[i+6],pred_g[i+12]])\n",
        "  r[i] = r2_score(m_pre, g_pre)\n",
        "r\n",
        "#m_pre = np.vstack([pred_m[0],pred_m[6],pred_m[12]])\n",
        "#g_pre = np.vstack([pred_g[0],pred_g[6],pred_g[12]])\n",
        "#r = r2_score(m_pre, g_pre)\n",
        "#print(r)"
      ],
      "metadata": {
        "colab": {
          "base_uri": "https://localhost:8080/"
        },
        "id": "uzedLGohb-YB",
        "outputId": "a0d3381c-ca11-4415-d223-a3b6a568ddf2"
      },
      "execution_count": null,
      "outputs": [
        {
          "output_type": "execute_result",
          "data": {
            "text/plain": [
              "array([ 0.96720683,  0.99795806,  0.99162231, -1.84198522,  0.54784871,\n",
              "        0.78384805])"
            ]
          },
          "metadata": {},
          "execution_count": 60
        }
      ]
    },
    {
      "cell_type": "code",
      "source": [
        "mse_v = np.empty(6)\n",
        "for i in range (6):\n",
        "  m_pre = np.vstack([pred_m[i],pred_m[i+6],pred_m[i+12]])\n",
        "  g_pre = np.vstack([pred_g[i],pred_g[i+6],pred_g[i+12]])\n",
        "  mse_v[i] = mse(m_pre, g_pre)\n",
        "mse_v\n",
        "#mse(pred_m,pred_g)"
      ],
      "metadata": {
        "colab": {
          "base_uri": "https://localhost:8080/"
        },
        "outputId": "103a79f8-b9a7-4687-82a5-4d0669fd199e",
        "id": "vrzFDdiX60Bo"
      },
      "execution_count": null,
      "outputs": [
        {
          "output_type": "execute_result",
          "data": {
            "text/plain": [
              "array([  377.64348781,    23.53729861,    94.25832945, 21118.77991188,\n",
              "        6093.05422224,  2171.62807153])"
            ]
          },
          "metadata": {},
          "execution_count": 61
        }
      ]
    },
    {
      "cell_type": "code",
      "source": [
        "mae_v = np.empty(6)\n",
        "for i in range (6):\n",
        "  m_pre = np.vstack([pred_m[i],pred_m[i+6],pred_m[i+12]])\n",
        "  g_pre = np.vstack([pred_g[i],pred_g[i+6],pred_g[i+12]])\n",
        "  mae_v[i] = mae(m_pre, g_pre)\n",
        "mae_v\n",
        "#mae(pred_m,pred_g)"
      ],
      "metadata": {
        "colab": {
          "base_uri": "https://localhost:8080/"
        },
        "outputId": "0bfd16fb-4d76-407b-dc92-b4917113eb92",
        "id": "j85pwn8h60Bp"
      },
      "execution_count": null,
      "outputs": [
        {
          "output_type": "execute_result",
          "data": {
            "text/plain": [
              "array([ 17.30816719,   3.8092428 ,   6.92881874, 143.01520589,\n",
              "        55.67246816,  46.37840419])"
            ]
          },
          "metadata": {},
          "execution_count": 62
        }
      ]
    },
    {
      "cell_type": "code",
      "source": [
        "mpe_v = np.empty(6)\n",
        "for i in range (6):\n",
        "  m_pre = np.vstack([pred_m[i],pred_m[i+6],pred_m[i+12]])\n",
        "  g_pre = np.vstack([pred_g[i],pred_g[i+6],pred_g[i+12]])\n",
        "  mpe_v[i] = mpe(m_pre, g_pre)\n",
        "mpe_v\n",
        "#mpe(pred_m,pred_g)"
      ],
      "metadata": {
        "colab": {
          "base_uri": "https://localhost:8080/"
        },
        "outputId": "880a6232-6eb0-41d1-f7ca-d3bc16b233da",
        "id": "cE_4hxtF60Bq"
      },
      "execution_count": null,
      "outputs": [
        {
          "output_type": "execute_result",
          "data": {
            "text/plain": [
              "array([0.01859172, 0.00429275, 0.00808042, 0.1349905 , 0.06626862,\n",
              "       0.04366936])"
            ]
          },
          "metadata": {},
          "execution_count": 65
        }
      ]
    },
    {
      "cell_type": "markdown",
      "source": [
        "# Latent space studies"
      ],
      "metadata": {
        "id": "1Oyop-qWVbaZ"
      }
    },
    {
      "cell_type": "code",
      "source": [
        "%%time\n",
        "space = np.zeros(512)\n",
        "lay = 1\n",
        "\n",
        "# For all samples (100 each for 6 classes)\n",
        "for i in range(600):\n",
        "  data = pd.read_csv('/content/gdrive/My Drive/Work from home/Vir files/Visualisation/sampled_latents/'+ str(i) +'.csv')\n",
        "  lat = data.values\n",
        "  dum = lat[:,lay]\n",
        "  space = np.vstack([space,dum])\n",
        "\n",
        "obs_lay = space[1:601,:]"
      ],
      "metadata": {
        "colab": {
          "base_uri": "https://localhost:8080/"
        },
        "id": "XLImh8GeXCVB",
        "outputId": "82ff9104-841d-4a17-dc32-8c454370ec44"
      },
      "execution_count": null,
      "outputs": [
        {
          "output_type": "stream",
          "name": "stdout",
          "text": [
            "CPU times: user 2.24 s, sys: 111 ms, total: 2.35 s\n",
            "Wall time: 2.95 s\n"
          ]
        }
      ]
    },
    {
      "cell_type": "code",
      "source": [
        "obs_lay.shape"
      ],
      "metadata": {
        "colab": {
          "base_uri": "https://localhost:8080/"
        },
        "id": "Re9Bq7vYdb2f",
        "outputId": "6b177f1b-84f6-4448-c779-d29b8399999f"
      },
      "execution_count": null,
      "outputs": [
        {
          "output_type": "execute_result",
          "data": {
            "text/plain": [
              "(300, 512)"
            ]
          },
          "metadata": {},
          "execution_count": 174
        }
      ]
    },
    {
      "cell_type": "code",
      "source": [
        "ID = 3\n",
        "pca = PCA(n_components = ID).fit(obs_lay)\n",
        "anew_pca = pca.transform(obs_lay)"
      ],
      "metadata": {
        "id": "PJ94YQzsf4kG"
      },
      "execution_count": null,
      "outputs": []
    },
    {
      "cell_type": "code",
      "source": [
        "pca.explained_variance_ratio_"
      ],
      "metadata": {
        "colab": {
          "base_uri": "https://localhost:8080/"
        },
        "id": "tyq7SJKcgRod",
        "outputId": "d254efa6-2940-415d-8679-af09f75e198f"
      },
      "execution_count": null,
      "outputs": [
        {
          "output_type": "execute_result",
          "data": {
            "text/plain": [
              "array([0.38894122, 0.27803877, 0.00334084])"
            ]
          },
          "metadata": {},
          "execution_count": 176
        }
      ]
    },
    {
      "cell_type": "code",
      "source": [
        "print('With the ',ID,' components, we can retain',sum(pca.explained_variance_ratio_)*100,'percent data')"
      ],
      "metadata": {
        "colab": {
          "base_uri": "https://localhost:8080/"
        },
        "id": "A4TMhNc0gQp-",
        "outputId": "7b166554-3dd7-4a7d-b413-daaada03fe26"
      },
      "execution_count": null,
      "outputs": [
        {
          "output_type": "stream",
          "name": "stdout",
          "text": [
            "With the  3  components, we can retain 67.03208278642097 percent data\n"
          ]
        }
      ]
    },
    {
      "cell_type": "code",
      "source": [
        "all_stack_pca = anew_pca\n",
        "\n",
        "fig = plt.figure(figsize=plt.figaspect(1)*2)\n",
        "plt.axis(aspect='equal')\n",
        "ax = plt.axes(projection='3d')\n",
        "zdata = all_stack_pca[0:100,2]\n",
        "xdata = all_stack_pca[0:100,0]\n",
        "ydata = all_stack_pca[0:100,1]\n",
        "ax.scatter3D(xdata, ydata, zdata, c='red', s=80, marker='o', label='Class 1');\n",
        "zdata = all_stack_pca[100:200,2]\n",
        "xdata = all_stack_pca[100:200,0]\n",
        "ydata = all_stack_pca[100:200,1]\n",
        "ax.scatter3D(xdata, ydata, zdata, c='blue', s=80,marker='o',label='Class 2');\n",
        "zdata = all_stack_pca[200:300,2]\n",
        "xdata = all_stack_pca[200:300,0]\n",
        "ydata = all_stack_pca[200:300,1]\n",
        "ax.scatter3D(xdata, ydata, zdata, c='green', s=80, marker='o',label='Class 3');\n",
        "zdata = all_stack_pca[300:400,2]\n",
        "xdata = all_stack_pca[300:400,0]\n",
        "ydata = all_stack_pca[300:400,1]\n",
        "ax.scatter3D(xdata, ydata, zdata, c='yellow', s=80, marker='o',label='Class 4');\n",
        "zdata = all_stack_pca[400:500,2]\n",
        "xdata = all_stack_pca[400:500,0]\n",
        "ydata = all_stack_pca[400:500,1]\n",
        "ax.scatter3D(xdata, ydata, zdata, c='black', s=80, marker='o',label='Class 5');\n",
        "zdata = all_stack_pca[500:600,2]\n",
        "xdata = all_stack_pca[500:600,0]\n",
        "ydata = all_stack_pca[500:600,1]\n",
        "ax.scatter3D(xdata, ydata, zdata, c='orange', s=80, marker='o',label='Class 6');\n",
        "plt.legend(fontsize = 11)\n",
        "\n",
        "ax.tick_params(axis='both', labelsize=14)\n",
        "ax.set_xlabel('PC1', fontsize = 18)\n",
        "ax.set_ylabel('PC2', fontsize = 18)\n",
        "ax.set_zlabel('PC3', fontsize = 18)\n",
        "plt.title('3D PC representation ', fontsize = 18, )\n",
        "#plt.savefig('/home/sanket/Sanket/Research/Comparison of unsupervised ML/PyPCA.png')\n",
        "plt.show()"
      ],
      "metadata": {
        "colab": {
          "base_uri": "https://localhost:8080/",
          "height": 555
        },
        "id": "O39jEgTYgV4X",
        "outputId": "1911ab7a-4eaa-4ba0-bfa1-e6de1828af1e"
      },
      "execution_count": null,
      "outputs": [
        {
          "output_type": "stream",
          "name": "stderr",
          "text": [
            "/usr/local/lib/python3.7/dist-packages/ipykernel_launcher.py:4: MatplotlibDeprecationWarning: Passing unsupported keyword arguments to axis() will raise a TypeError in 3.3.\n",
            "  after removing the cwd from sys.path.\n",
            "/usr/local/lib/python3.7/dist-packages/ipykernel_launcher.py:5: MatplotlibDeprecationWarning: Adding an axes using the same arguments as a previous axes currently reuses the earlier instance.  In a future version, a new instance will always be created and returned.  Meanwhile, this warning can be suppressed, and the future behavior ensured, by passing a unique label to each axes instance.\n",
            "  \"\"\"\n"
          ]
        },
        {
          "output_type": "display_data",
          "data": {
            "image/png": "[encoded data removed]",
            "text/plain": [
              "<Figure size 576x576 with 1 Axes>"
            ]
          },
          "metadata": {
            "needs_background": "light"
          }
        }
      ]
    },
    {
      "cell_type": "code",
      "source": [
        ""
      ],
      "metadata": {
        "id": "oKZA_rMTzQsq"
      },
      "execution_count": null,
      "outputs": []
    }
  ]
}